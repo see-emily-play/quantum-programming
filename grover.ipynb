{
 "cells": [
  {
   "cell_type": "code",
   "execution_count": 8,
   "id": "macro-millennium",
   "metadata": {},
   "outputs": [],
   "source": [
    "import boto3\n",
    "from braket.aws import AwsDevice\n",
    "from braket.circuits import Circuit\n",
    "\n",
    "from braket.devices import LocalSimulator\n",
    "from braket.aws import AwsDevice\n",
    "from timeit import default_timer as timer\n",
    "from math import sqrt"
   ]
  },
  {
   "cell_type": "code",
   "execution_count": 2,
   "id": "enabling-wound",
   "metadata": {},
   "outputs": [
    {
     "name": "stdout",
     "output_type": "stream",
     "text": [
      "Counter({'11': 6, '00': 4})\n",
      "Quantum Gates supported by StateVectorSimulator:\n",
      " ['ccnot', 'cnot', 'cphaseshift', 'cphaseshift00', 'cphaseshift01', 'cphaseshift10', 'cswap', 'cv', 'cy', 'cz', 'ecr', 'h', 'i', 'iswap', 'pswap', 'phaseshift', 'rx', 'ry', 'rz', 's', 'si', 'swap', 't', 'ti', 'unitary', 'v', 'vi', 'x', 'xx', 'xy', 'y', 'yy', 'z', 'zz']\n"
     ]
    }
   ],
   "source": [
    "device = LocalSimulator()\n",
    "\n",
    "bell = Circuit().h(0).cnot(0, 1)\n",
    "task = device.run(bell, shots=10)\n",
    "print(task.result().measurement_counts)\n",
    "# get device name\n",
    "device_name = device.name\n",
    "\n",
    "# show the properties of the device \n",
    "device_properties = device.properties\n",
    "# show supportedQuantumOperations (supported gates for a device)\n",
    "device_operations = device_properties.dict()['action']['braket.ir.jaqcd.program']['supportedOperations']\n",
    "# Note: This field also exists for other devices like the QPUs\n",
    "print('Quantum Gates supported by {}:\\n {}'.format(device_name, device_operations))"
   ]
  },
  {
   "cell_type": "code",
   "execution_count": 53,
   "id": "informational-bunny",
   "metadata": {},
   "outputs": [],
   "source": [
    "from braket.circuits import circuit, Circuit, Gate, Moments\n",
    "from braket.circuits.instruction import Instruction\n",
    "from braket.aws import AwsQuantumTask, AwsDevice\n",
    "from braket.devices import LocalSimulator\n",
    "import matplotlib.pyplot as plt\n",
    "# magic word for producing visualizations in notebook\n",
    "%matplotlib inline\n",
    "import numpy as np"
   ]
  },
  {
   "cell_type": "markdown",
   "id": "fourth-sword",
   "metadata": {},
   "source": [
    "## Grover Algorithm"
   ]
  },
  {
   "cell_type": "code",
   "execution_count": 158,
   "id": "mental-mozambique",
   "metadata": {},
   "outputs": [],
   "source": [
    "import itertools\n",
    "# Helper function to build C-C-Z gate\n",
    "@circuit.subroutine(register=True)\n",
    "def ccz():\n",
    "    \"\"\"\n",
    "    implementation of three-qubit gate CCZ\n",
    "    \"\"\"\n",
    "    # define three-qubit CCZ gate\n",
    "    ccz_gate = np.eye(n_elem, dtype=complex)\n",
    "    ccz_gate[n_elem-1, n_elem-1] = -1.+0.j\n",
    "    \n",
    "    # instantiate circuit object\n",
    "    circ = Circuit()\n",
    "    \n",
    "    # add CCZ gate\n",
    "    circ.unitary(matrix=ccz_gate, targets=targets)\n",
    "    \n",
    "    return circ\n",
    "\n",
    "n_qub = 7\n",
    "n_elem = 2**n_qub\n",
    "targets = [x for x in range(0, n_qub)]\n",
    "\n",
    "test = list(itertools.product([0, 1], repeat=n_qub))\n",
    "ora = [\"\".join(map(str, test[i]))  for i in range(0,n_elem)]\n",
    "oracle_sim = {\n",
    "    ora[i]: Circuit().x(np.where(np.array(test[i]) < 1)[0]).ccz().x(np.where(np.array(test[i]) < 1)[0])  for i in range(0,n_elem)\n",
    "}\n",
    "\n",
    "# helper function for initialization\n",
    "def initialize(n_qubits=n_qub):\n",
    "    \"\"\"\n",
    "    function to apply hadamard to all qubits\n",
    "    \"\"\"\n",
    "    # Initialize with superposition\n",
    "    circ = Circuit();\n",
    "    circ.h(np.arange(n_qubits))\n",
    "    #print(circ)\n",
    "    return circ\n",
    "\n",
    "\n",
    "# helper function for phase oracle\n",
    "def oracle(item):\n",
    "    \"\"\"\n",
    "    function to apply oracle for given target item\n",
    "    \"\"\"\n",
    "    # instantiate circuit object\n",
    "    circ = Circuit()\n",
    "    \n",
    "    # add oracle\n",
    "    circ.add_circuit(oracle_sim[item])\n",
    "    \n",
    "    return circ\n",
    "\n",
    "\n",
    "# helper function for amplification\n",
    "def amplify(n_qubits=n_qub):\n",
    "    \"\"\"\n",
    "    function for amplitude amplification\n",
    "    \"\"\"\n",
    "    # instantiate circuit object\n",
    "    circ = Circuit()\n",
    "    \n",
    "    # Amplification\n",
    "    circ.h(np.arange(n_qubits))\n",
    "    circ.add_circuit(oracle_sim[ora[0]])\n",
    "    circ.h(np.arange(n_qubits))\n",
    "    \n",
    "    return circ\n",
    "\n",
    "\n",
    "# helper function for grover algorithm\n",
    "def grover(item, n_qubits=n_qub, n_reps=1):\n",
    "    \"\"\"\n",
    "    function to put together individual modules of Grover algorithm\n",
    "    \"\"\"\n",
    "    # initialize\n",
    "    grover_circ = initialize()\n",
    "    # oracle and amplify\n",
    "    for ii in range(n_reps):\n",
    "        # get oracle\n",
    "        or_circ = oracle(item)\n",
    "        grover_circ.add(or_circ)\n",
    "        # amplify\n",
    "        amplification = amplify()\n",
    "        grover_circ.add(amplification)\n",
    "    \n",
    "    return grover_circ"
   ]
  },
  {
   "cell_type": "code",
   "execution_count": 162,
   "id": "necessary-plaza",
   "metadata": {},
   "outputs": [],
   "source": [
    "# Function to run quantum task, check the status thereof, and collect results\n",
    "task=None\n",
    "def get_result(circ):\n",
    "    \n",
    "    # get number of qubits\n",
    "    num_qubits = circ.qubit_count\n",
    "\n",
    "    # specify desired results_types\n",
    "    circ.probability()\n",
    "    \n",
    "    start = timer()\n",
    "\n",
    "    # submit task: define task (asynchronous)\n",
    "    task = device.run(circ, shots=1000)\n",
    "\n",
    "    # Get ID of submitted task\n",
    "    task_id = task.id\n",
    "#     print('Task ID :', task_id)\n",
    "\n",
    "    # Wait for job to complete\n",
    "    status_list = []\n",
    "    status = task.state()\n",
    "    status_list += [status]\n",
    "    print('Status:', status)\n",
    "\n",
    "    # Only notify the user when there's a status change\n",
    "    while status != 'COMPLETED':\n",
    "        status = task.state()\n",
    "        if status != status_list[-1]:\n",
    "            print('Status:', status)\n",
    "        status_list += [status]\n",
    "\n",
    "    # get result\n",
    "    result = task.result()\n",
    "    end = timer()\n",
    "    \n",
    "    print(\"Task Summary\")\n",
    "    print(f\"Time: {end - start} seconds\")\n",
    "    times.append(round(end - start, 4))\n",
    "\n",
    "    # get metadata\n",
    "    metadata = result.task_metadata\n",
    "\n",
    "    # get output probabilities\n",
    "    probs_values = result.values[0]\n",
    "\n",
    "    # get measurement results\n",
    "    measurement_counts = result.measurement_counts\n",
    "\n",
    "    # print measurement results\n",
    "    print('measurement_counts:', measurement_counts)\n",
    "\n",
    "    # bitstrings\n",
    "    format_bitstring = '{0:0' + str(num_qubits) + 'b}'\n",
    "    bitstring_keys = [format_bitstring.format(ii) for ii in range(2**num_qubits)]\n",
    "\n",
    "    # plot probabalities\n",
    "    plt.figure(figsize=(14, 7))\n",
    "    plt.bar(bitstring_keys, probs_values);\n",
    "    plt.xlabel('bitstrings');\n",
    "    plt.ylabel('probability');\n",
    "    plt.xticks(rotation=90);\n",
    "    plt.show()\n",
    "    plt.savefig('simulator7.png', dpi=700)\n",
    "    \n",
    "    return measurement_counts"
   ]
  },
  {
   "cell_type": "code",
   "execution_count": 148,
   "id": "grateful-remove",
   "metadata": {},
   "outputs": [
    {
     "name": "stdout",
     "output_type": "stream",
     "text": [
      "start grover\n",
      "end grover\n",
      "T  : |0|1|2|3|4|5|6|\n",
      "                    \n",
      "q0 : -H-U-H-X-U-X-H-\n",
      "        |     |     \n",
      "q1 : -H-U-H-X-U-X-H-\n",
      "\n",
      "T  : |0|1|2|3|4|5|6|\n",
      "get results\n",
      "Status: COMPLETED\n",
      "Task Summary\n",
      "Time: 0.04135688099995605 seconds\n",
      "measurement_counts: Counter({'11': 1000})\n"
     ]
    },
    {
     "data": {
      "image/png": "[encoded data removed]",
      "text/plain": [
       "<Figure size 432x288 with 1 Axes>"
      ]
     },
     "metadata": {
      "needs_background": "light"
     },
     "output_type": "display_data"
    },
    {
     "name": "stdout",
     "output_type": "stream",
     "text": [
      "{}\n"
     ]
    },
    {
     "data": {
      "text/plain": [
       "<Figure size 432x288 with 0 Axes>"
      ]
     },
     "metadata": {},
     "output_type": "display_data"
    }
   ],
   "source": [
    "n_qub = 2\n",
    "n_elem = 2**n_qub\n",
    "targets = [x for x in range(0, n_qub)]\n",
    "\n",
    "# set up the local simulator\n",
    "device = LocalSimulator()\n",
    "\n",
    "# Select item to find. Let's start with '111' for now\n",
    "item = \"11\"\n",
    "times=[]\n",
    "\n",
    "# get Grover circuit\n",
    "circ = grover(item, n_reps=round(sqrt(n_qub)))\n",
    "\n",
    "# print circuit\n",
    "print(circ)\n",
    "\n",
    "# Measurement\n",
    "from braket.tracking import Tracker\n",
    "t = Tracker().start()\n",
    "counts = get_result(circ)\n",
    "print(t.quantum_tasks_statistics())"
   ]
  },
  {
   "cell_type": "code",
   "execution_count": 152,
   "id": "empty-agent",
   "metadata": {},
   "outputs": [
    {
     "name": "stdout",
     "output_type": "stream",
     "text": [
      "Searching item:  101\n",
      "T  : |0|1|2|3|4|5|6|7|8|9|10|11|12|13|14|15|16|\n",
      "                                               \n",
      "q0 : -H---U-H-X---U-X-H---U--H--X-----U--X--H--\n",
      "          |       |       |           |        \n",
      "q1 : -H-X-U-X-H-X-U-X-H-X-U--X--H--X--U--X--H--\n",
      "          |       |       |           |        \n",
      "q2 : -H---U-H-X---U-X-H---U--H--X-----U--X--H--\n",
      "\n",
      "T  : |0|1|2|3|4|5|6|7|8|9|10|11|12|13|14|15|16|\n",
      "Status: COMPLETED\n",
      "Task Summary\n",
      "Time: 0.0881417179998607 seconds\n",
      "measurement_counts: Counter({'101': 954, '111': 11, '011': 7, '000': 7, '110': 6, '010': 6, '001': 5, '100': 4})\n"
     ]
    },
    {
     "data": {
      "image/png": "[encoded data removed]",
      "text/plain": [
       "<Figure size 432x288 with 1 Axes>"
      ]
     },
     "metadata": {
      "needs_background": "light"
     },
     "output_type": "display_data"
    },
    {
     "name": "stdout",
     "output_type": "stream",
     "text": [
      "{}\n"
     ]
    },
    {
     "data": {
      "text/plain": [
       "<Figure size 432x288 with 0 Axes>"
      ]
     },
     "metadata": {},
     "output_type": "display_data"
    }
   ],
   "source": [
    "n_qub = 3\n",
    "n_elem = 2**n_qub\n",
    "targets = [x for x in range(0, n_qub)]\n",
    "\n",
    "# set up the local simulator\n",
    "device = LocalSimulator()\n",
    "\n",
    "# Select item to find. Let's start with '111' for now\n",
    "item = \"101\"\n",
    "times=[]\n",
    "print(\"Searching item: \", item)\n",
    "\n",
    "# get Grover circuit\n",
    "circ = grover(item, n_reps=round(sqrt(n_qub)))\n",
    "\n",
    "# print circuit\n",
    "print(circ)\n",
    "\n",
    "# Measurement\n",
    "from braket.tracking import Tracker\n",
    "t = Tracker().start()\n",
    "counts = get_result(circ)\n",
    "print(t.quantum_tasks_statistics())"
   ]
  },
  {
   "cell_type": "code",
   "execution_count": 154,
   "id": "restricted-kennedy",
   "metadata": {},
   "outputs": [
    {
     "name": "stdout",
     "output_type": "stream",
     "text": [
      "Searching item:  1101\n",
      "T  : |0|1|2|3|4|5|6|7|8|9|10|11|12|13|14|15|16|\n",
      "                                               \n",
      "q0 : -H---U-H-X---U-X-H---U--H--X-----U--X--H--\n",
      "          |       |       |           |        \n",
      "q1 : -H---U-H-X---U-X-H---U--H--X-----U--X--H--\n",
      "          |       |       |           |        \n",
      "q2 : -H-X-U-X-H-X-U-X-H-X-U--X--H--X--U--X--H--\n",
      "          |       |       |           |        \n",
      "q3 : -H---U-H-X---U-X-H---U--H--X-----U--X--H--\n",
      "\n",
      "T  : |0|1|2|3|4|5|6|7|8|9|10|11|12|13|14|15|16|\n",
      "Status: COMPLETED\n",
      "Task Summary\n",
      "Time: 0.18695460700018884 seconds\n",
      "measurement_counts: Counter({'1101': 902, '0001': 12, '0101': 11, '1100': 8, '1011': 7, '1001': 7, '1010': 7, '1110': 6, '1000': 6, '0000': 6, '0111': 5, '0010': 5, '0100': 5, '0011': 5, '0110': 4, '1111': 4})\n"
     ]
    },
    {
     "data": {
      "image/png": "[encoded data removed]",
      "text/plain": [
       "<Figure size 432x288 with 1 Axes>"
      ]
     },
     "metadata": {
      "needs_background": "light"
     },
     "output_type": "display_data"
    },
    {
     "name": "stdout",
     "output_type": "stream",
     "text": [
      "{}\n"
     ]
    },
    {
     "data": {
      "text/plain": [
       "<Figure size 432x288 with 0 Axes>"
      ]
     },
     "metadata": {},
     "output_type": "display_data"
    }
   ],
   "source": [
    "n_qub = 4\n",
    "n_elem = 2**n_qub\n",
    "targets = [x for x in range(0, n_qub)]\n",
    "\n",
    "# set up the local simulator\n",
    "device = LocalSimulator()\n",
    "\n",
    "# Select item to find. Let's start with '111' for now\n",
    "item = \"1101\"\n",
    "times=[]\n",
    "print(\"Searching item: \", item)\n",
    "\n",
    "# get Grover circuit\n",
    "circ = grover(item, n_reps=round(sqrt(n_qub)))\n",
    "\n",
    "# print circuit\n",
    "print(circ)\n",
    "\n",
    "# Measurement\n",
    "from braket.tracking import Tracker\n",
    "t = Tracker().start()\n",
    "counts = get_result(circ)\n",
    "print(t.quantum_tasks_statistics())"
   ]
  },
  {
   "cell_type": "code",
   "execution_count": 163,
   "id": "wooden-attraction",
   "metadata": {},
   "outputs": [
    {
     "name": "stdout",
     "output_type": "stream",
     "text": [
      "Searching item:  0101100\n",
      "T  : |0|1|2|3|4|5|6|7|8|9|10|11|12|13|14|15|16|17|18|19|20|21|22|23|24|\n",
      "                                                                       \n",
      "q0 : -H-X-U-X-H-X-U-X-H-X-U--X--H--X--U--X--H--X--U--X--H--X--U--X--H--\n",
      "          |       |       |           |           |           |        \n",
      "q1 : -H---U-H-X---U-X-H---U--H--X-----U--X--H-----U--H--X-----U--X--H--\n",
      "          |       |       |           |           |           |        \n",
      "q2 : -H-X-U-X-H-X-U-X-H-X-U--X--H--X--U--X--H--X--U--X--H--X--U--X--H--\n",
      "          |       |       |           |           |           |        \n",
      "q3 : -H---U-H-X---U-X-H---U--H--X-----U--X--H-----U--H--X-----U--X--H--\n",
      "          |       |       |           |           |           |        \n",
      "q4 : -H---U-H-X---U-X-H---U--H--X-----U--X--H-----U--H--X-----U--X--H--\n",
      "          |       |       |           |           |           |        \n",
      "q5 : -H-X-U-X-H-X-U-X-H-X-U--X--H--X--U--X--H--X--U--X--H--X--U--X--H--\n",
      "          |       |       |           |           |           |        \n",
      "q6 : -H-X-U-X-H-X-U-X-H-X-U--X--H--X--U--X--H--X--U--X--H--X--U--X--H--\n",
      "\n",
      "T  : |0|1|2|3|4|5|6|7|8|9|10|11|12|13|14|15|16|17|18|19|20|21|22|23|24|\n",
      "Status: COMPLETED\n",
      "Task Summary\n",
      "Time: 17.74193504300092 seconds\n",
      "measurement_counts: Counter({'0101100': 306, '1100110': 12, '0100001': 12, '0111111': 11, '1110100': 11, '0111001': 10, '0100100': 10, '1001101': 10, '0011011': 10, '0101010': 10, '0100010': 9, '1010011': 9, '1010000': 9, '0000100': 9, '1110010': 9, '1001000': 9, '1100001': 8, '1110011': 8, '0010000': 8, '1100100': 8, '0111000': 8, '1000101': 8, '1011101': 8, '0011100': 8, '0101011': 8, '0110100': 8, '0100101': 8, '1101011': 8, '1010101': 8, '0110111': 8, '0110010': 7, '1011011': 7, '1011110': 7, '0010101': 7, '0011110': 7, '0010100': 7, '0001100': 7, '0010011': 7, '0101110': 6, '0101001': 6, '1110001': 6, '1001011': 6, '1010010': 6, '1011001': 6, '1110110': 6, '0010001': 6, '1000111': 6, '0111011': 6, '1001110': 6, '1011010': 6, '1101100': 6, '1110101': 6, '1011000': 6, '1001100': 6, '0000101': 6, '0000111': 6, '0001010': 5, '1111101': 5, '0011101': 5, '0001101': 5, '1000001': 5, '0010010': 5, '1000011': 5, '1010110': 5, '0110101': 5, '0111010': 5, '1111110': 5, '0001001': 5, '1100010': 5, '1100011': 5, '0101101': 5, '0100110': 5, '1101111': 5, '0110011': 5, '0110000': 5, '1100111': 5, '0110110': 5, '1110000': 5, '1101001': 5, '0000000': 5, '0011000': 5, '0110001': 5, '1000000': 4, '0000110': 4, '0001000': 4, '1111111': 4, '0011001': 4, '0010111': 4, '1001010': 4, '1011100': 4, '1101000': 4, '0001110': 4, '1100101': 4, '0000011': 4, '0010110': 4, '1010111': 4, '0111100': 4, '1001001': 4, '1010100': 4, '0101000': 3, '1000110': 3, '1100000': 3, '0000001': 3, '0111101': 3, '1111010': 3, '1011111': 3, '1111000': 3, '1010001': 3, '0011010': 3, '1101010': 3, '1101101': 3, '0111110': 3, '0011111': 3, '1000100': 3, '0001011': 3, '1000010': 3, '0101111': 3, '0100011': 2, '0100111': 2, '1111100': 2, '1111011': 2, '0100000': 2, '1001111': 1, '1111001': 1, '1101110': 1, '0001111': 1, '1110111': 1, '0000010': 1})\n"
     ]
    },
    {
     "data": {
      "image/png": "[encoded data removed]",
      "text/plain": [
       "<Figure size 1008x504 with 1 Axes>"
      ]
     },
     "metadata": {
      "needs_background": "light"
     },
     "output_type": "display_data"
    },
    {
     "name": "stdout",
     "output_type": "stream",
     "text": [
      "{}\n"
     ]
    },
    {
     "data": {
      "text/plain": [
       "<Figure size 432x288 with 0 Axes>"
      ]
     },
     "metadata": {},
     "output_type": "display_data"
    }
   ],
   "source": [
    "n_qub = 7\n",
    "n_elem = 2**n_qub\n",
    "targets = [x for x in range(0, n_qub)]\n",
    "\n",
    "# set up the local simulator\n",
    "device = LocalSimulator()\n",
    "\n",
    "# Select item to find. Let's start with '111' for now\n",
    "item = \"0101100\"\n",
    "times=[]\n",
    "print(\"Searching item: \", item)\n",
    "\n",
    "# get Grover circuit\n",
    "circ = grover(item, n_reps=round(sqrt(n_qub)))\n",
    "\n",
    "# print circuit\n",
    "print(circ)\n",
    "\n",
    "# Measurement\n",
    "from braket.tracking import Tracker\n",
    "t = Tracker().start()\n",
    "counts = get_result(circ)\n",
    "print(t.quantum_tasks_statistics())"
   ]
  },
  {
   "cell_type": "code",
   "execution_count": 86,
   "id": "crucial-mandate",
   "metadata": {},
   "outputs": [
    {
     "data": {
      "image/png": "[encoded data removed]",
      "text/plain": [
       "<Figure size 1008x504 with 1 Axes>"
      ]
     },
     "metadata": {
      "needs_background": "light"
     },
     "output_type": "display_data"
    }
   ],
   "source": [
    "t1 = np.arange(2.0, 9.0, 1.0)\n",
    "t2 = np.arange(0.0, 70, 5.0)\n",
    "plt.figure(figsize=(14, 7))\n",
    "plt.plot(t1, times)\n",
    "plt.xticks([2, 3, 4, 5, 6, 7, 8])\n",
    "plt.yticks(t2)\n",
    "plt.title('Зависимость времени от количества кубитов', fontsize=20)\n",
    "plt.xlabel(\"Количество кубитов\")\n",
    "plt.ylabel(\"Время, с\")\n",
    "plt.show()"
   ]
  },
  {
   "cell_type": "markdown",
   "id": "hispanic-listing",
   "metadata": {},
   "source": [
    "## IonQ"
   ]
  },
  {
   "cell_type": "code",
   "execution_count": 6,
   "id": "dimensional-specification",
   "metadata": {},
   "outputs": [
    {
     "name": "stdout",
     "output_type": "stream",
     "text": [
      "start grover\n",
      "end grover\n",
      "T  : |0|1|2|3|4|5|6|7|8|9|10|11|12|13|14|15|16|17|18|19|20|21|22|23|24|25|26|27|28|29|30|31|32|33|34|35|36|37|38|39|40|\n",
      "                                                                                                                       \n",
      "q0 : -H---U-H-X---U-X-H---U--H--X-----U--X--H-----U--H--X-----U--X--H-----U--H--X-----U--X--H-----U--H--X-----U--X--H--\n",
      "          |       |       |           |           |           |           |           |           |           |        \n",
      "q1 : -H-X-U-X-H-X-U-X-H-X-U--X--H--X--U--X--H--X--U--X--H--X--U--X--H--X--U--X--H--X--U--X--H--X--U--X--H--X--U--X--H--\n",
      "          |       |       |           |           |           |           |           |           |           |        \n",
      "q2 : -H-X-U-X-H-X-U-X-H-X-U--X--H--X--U--X--H--X--U--X--H--X--U--X--H--X--U--X--H--X--U--X--H--X--U--X--H--X--U--X--H--\n",
      "          |       |       |           |           |           |           |           |           |           |        \n",
      "q3 : -H---U-H-X---U-X-H---U--H--X-----U--X--H-----U--H--X-----U--X--H-----U--H--X-----U--X--H-----U--H--X-----U--X--H--\n",
      "          |       |       |           |           |           |           |           |           |           |        \n",
      "q4 : -H-X-U-X-H-X-U-X-H-X-U--X--H--X--U--X--H--X--U--X--H--X--U--X--H--X--U--X--H--X--U--X--H--X--U--X--H--X--U--X--H--\n",
      "          |       |       |           |           |           |           |           |           |           |        \n",
      "q5 : -H-X-U-X-H-X-U-X-H-X-U--X--H--X--U--X--H--X--U--X--H--X--U--X--H--X--U--X--H--X--U--X--H--X--U--X--H--X--U--X--H--\n",
      "          |       |       |           |           |           |           |           |           |           |        \n",
      "q6 : -H---U-H-X---U-X-H---U--H--X-----U--X--H-----U--H--X-----U--X--H-----U--H--X-----U--X--H-----U--H--X-----U--X--H--\n",
      "\n",
      "T  : |0|1|2|3|4|5|6|7|8|9|10|11|12|13|14|15|16|17|18|19|20|21|22|23|24|25|26|27|28|29|30|31|32|33|34|35|36|37|38|39|40|\n",
      "get results\n"
     ]
    },
    {
     "ename": "AccessDeniedException",
     "evalue": "An error occurred (AccessDeniedException) when calling the CreateQuantumTask operation: Account 576588997085 is not permitted to access AWS Braket resources.",
     "output_type": "error",
     "traceback": [
      "\u001b[1;31m---------------------------------------------------------------------------\u001b[0m",
      "\u001b[1;31mAccessDeniedException\u001b[0m                     Traceback (most recent call last)",
      "\u001b[1;32m<ipython-input-6-30e93f755969>\u001b[0m in \u001b[0;36m<module>\u001b[1;34m\u001b[0m\n\u001b[0;32m     17\u001b[0m \u001b[1;32mfrom\u001b[0m \u001b[0mbraket\u001b[0m\u001b[1;33m.\u001b[0m\u001b[0mtracking\u001b[0m \u001b[1;32mimport\u001b[0m \u001b[0mTracker\u001b[0m\u001b[1;33m\u001b[0m\u001b[1;33m\u001b[0m\u001b[0m\n\u001b[0;32m     18\u001b[0m \u001b[0mt\u001b[0m \u001b[1;33m=\u001b[0m \u001b[0mTracker\u001b[0m\u001b[1;33m(\u001b[0m\u001b[1;33m)\u001b[0m\u001b[1;33m.\u001b[0m\u001b[0mstart\u001b[0m\u001b[1;33m(\u001b[0m\u001b[1;33m)\u001b[0m\u001b[1;33m\u001b[0m\u001b[1;33m\u001b[0m\u001b[0m\n\u001b[1;32m---> 19\u001b[1;33m \u001b[0mcounts\u001b[0m \u001b[1;33m=\u001b[0m \u001b[0mget_result\u001b[0m\u001b[1;33m(\u001b[0m\u001b[0mcirc\u001b[0m\u001b[1;33m)\u001b[0m\u001b[1;33m\u001b[0m\u001b[1;33m\u001b[0m\u001b[0m\n\u001b[0m\u001b[0;32m     20\u001b[0m \u001b[0mprint\u001b[0m\u001b[1;33m(\u001b[0m\u001b[0mt\u001b[0m\u001b[1;33m.\u001b[0m\u001b[0mquantum_tasks_statistics\u001b[0m\u001b[1;33m(\u001b[0m\u001b[1;33m)\u001b[0m\u001b[1;33m)\u001b[0m\u001b[1;33m\u001b[0m\u001b[1;33m\u001b[0m\u001b[0m\n",
      "\u001b[1;32m<ipython-input-4-1386c503bb02>\u001b[0m in \u001b[0;36mget_result\u001b[1;34m(circ)\u001b[0m\n\u001b[0;32m     12\u001b[0m \u001b[1;33m\u001b[0m\u001b[0m\n\u001b[0;32m     13\u001b[0m     \u001b[1;31m# submit task: define task (asynchronous)\u001b[0m\u001b[1;33m\u001b[0m\u001b[1;33m\u001b[0m\u001b[1;33m\u001b[0m\u001b[0m\n\u001b[1;32m---> 14\u001b[1;33m     \u001b[0mtask\u001b[0m \u001b[1;33m=\u001b[0m \u001b[0mdevice\u001b[0m\u001b[1;33m.\u001b[0m\u001b[0mrun\u001b[0m\u001b[1;33m(\u001b[0m\u001b[0mcirc\u001b[0m\u001b[1;33m,\u001b[0m \u001b[0mshots\u001b[0m\u001b[1;33m=\u001b[0m\u001b[1;36m10\u001b[0m\u001b[1;33m)\u001b[0m\u001b[1;33m\u001b[0m\u001b[1;33m\u001b[0m\u001b[0m\n\u001b[0m\u001b[0;32m     15\u001b[0m \u001b[1;33m\u001b[0m\u001b[0m\n\u001b[0;32m     16\u001b[0m     \u001b[1;31m# Get ID of submitted task\u001b[0m\u001b[1;33m\u001b[0m\u001b[1;33m\u001b[0m\u001b[1;33m\u001b[0m\u001b[0m\n",
      "\u001b[1;32mc:\\users\\алексей\\appdata\\local\\programs\\python\\python39\\lib\\site-packages\\braket\\aws\\aws_device.py\u001b[0m in \u001b[0;36mrun\u001b[1;34m(self, task_specification, s3_destination_folder, shots, poll_timeout_seconds, poll_interval_seconds, inputs, *aws_quantum_task_args, **aws_quantum_task_kwargs)\u001b[0m\n\u001b[0;32m    160\u001b[0m             \u001b[0;31m`\u001b[0m\u001b[0mbraket\u001b[0m\u001b[1;33m.\u001b[0m\u001b[0maws\u001b[0m\u001b[1;33m.\u001b[0m\u001b[0maws_quantum_task\u001b[0m\u001b[1;33m.\u001b[0m\u001b[0mAwsQuantumTask\u001b[0m\u001b[1;33m.\u001b[0m\u001b[0mcreate\u001b[0m\u001b[1;33m(\u001b[0m\u001b[1;33m)\u001b[0m\u001b[0;31m`\u001b[0m\u001b[1;33m\u001b[0m\u001b[1;33m\u001b[0m\u001b[0m\n\u001b[0;32m    161\u001b[0m         \"\"\"\n\u001b[1;32m--> 162\u001b[1;33m         return AwsQuantumTask.create(\n\u001b[0m\u001b[0;32m    163\u001b[0m             \u001b[0mself\u001b[0m\u001b[1;33m.\u001b[0m\u001b[0m_aws_session\u001b[0m\u001b[1;33m,\u001b[0m\u001b[1;33m\u001b[0m\u001b[1;33m\u001b[0m\u001b[0m\n\u001b[0;32m    164\u001b[0m             \u001b[0mself\u001b[0m\u001b[1;33m.\u001b[0m\u001b[0m_arn\u001b[0m\u001b[1;33m,\u001b[0m\u001b[1;33m\u001b[0m\u001b[1;33m\u001b[0m\u001b[0m\n",
      "\u001b[1;32mc:\\users\\алексей\\appdata\\local\\programs\\python\\python39\\lib\\site-packages\\braket\\aws\\aws_quantum_task.py\u001b[0m in \u001b[0;36mcreate\u001b[1;34m(aws_session, device_arn, task_specification, s3_destination_folder, shots, device_parameters, disable_qubit_rewiring, tags, inputs, *args, **kwargs)\u001b[0m\n\u001b[0;32m    180\u001b[0m                 )\n\u001b[0;32m    181\u001b[0m \u001b[1;33m\u001b[0m\u001b[0m\n\u001b[1;32m--> 182\u001b[1;33m         return _create_internal(\n\u001b[0m\u001b[0;32m    183\u001b[0m             \u001b[0mtask_specification\u001b[0m\u001b[1;33m,\u001b[0m\u001b[1;33m\u001b[0m\u001b[1;33m\u001b[0m\u001b[0m\n\u001b[0;32m    184\u001b[0m             \u001b[0maws_session\u001b[0m\u001b[1;33m,\u001b[0m\u001b[1;33m\u001b[0m\u001b[1;33m\u001b[0m\u001b[0m\n",
      "\u001b[1;32mc:\\users\\алексей\\appdata\\local\\programs\\python\\python39\\lib\\functools.py\u001b[0m in \u001b[0;36mwrapper\u001b[1;34m(*args, **kw)\u001b[0m\n\u001b[0;32m    875\u001b[0m                             '1 positional argument')\n\u001b[0;32m    876\u001b[0m \u001b[1;33m\u001b[0m\u001b[0m\n\u001b[1;32m--> 877\u001b[1;33m         \u001b[1;32mreturn\u001b[0m \u001b[0mdispatch\u001b[0m\u001b[1;33m(\u001b[0m\u001b[0margs\u001b[0m\u001b[1;33m[\u001b[0m\u001b[1;36m0\u001b[0m\u001b[1;33m]\u001b[0m\u001b[1;33m.\u001b[0m\u001b[0m__class__\u001b[0m\u001b[1;33m)\u001b[0m\u001b[1;33m(\u001b[0m\u001b[1;33m*\u001b[0m\u001b[0margs\u001b[0m\u001b[1;33m,\u001b[0m \u001b[1;33m**\u001b[0m\u001b[0mkw\u001b[0m\u001b[1;33m)\u001b[0m\u001b[1;33m\u001b[0m\u001b[1;33m\u001b[0m\u001b[0m\n\u001b[0m\u001b[0;32m    878\u001b[0m \u001b[1;33m\u001b[0m\u001b[0m\n\u001b[0;32m    879\u001b[0m     \u001b[0mfuncname\u001b[0m \u001b[1;33m=\u001b[0m \u001b[0mgetattr\u001b[0m\u001b[1;33m(\u001b[0m\u001b[0mfunc\u001b[0m\u001b[1;33m,\u001b[0m \u001b[1;34m'__name__'\u001b[0m\u001b[1;33m,\u001b[0m \u001b[1;34m'singledispatch function'\u001b[0m\u001b[1;33m)\u001b[0m\u001b[1;33m\u001b[0m\u001b[1;33m\u001b[0m\u001b[0m\n",
      "\u001b[1;32mc:\\users\\алексей\\appdata\\local\\programs\\python\\python39\\lib\\site-packages\\braket\\aws\\aws_quantum_task.py\u001b[0m in \u001b[0;36m_\u001b[1;34m(circuit, aws_session, create_task_kwargs, device_arn, device_parameters, disable_qubit_rewiring, inputs, *args, **kwargs)\u001b[0m\n\u001b[0;32m    598\u001b[0m         }\n\u001b[0;32m    599\u001b[0m     )\n\u001b[1;32m--> 600\u001b[1;33m     \u001b[0mtask_arn\u001b[0m \u001b[1;33m=\u001b[0m \u001b[0maws_session\u001b[0m\u001b[1;33m.\u001b[0m\u001b[0mcreate_quantum_task\u001b[0m\u001b[1;33m(\u001b[0m\u001b[1;33m**\u001b[0m\u001b[0mcreate_task_kwargs\u001b[0m\u001b[1;33m)\u001b[0m\u001b[1;33m\u001b[0m\u001b[1;33m\u001b[0m\u001b[0m\n\u001b[0m\u001b[0;32m    601\u001b[0m     \u001b[1;32mreturn\u001b[0m \u001b[0mAwsQuantumTask\u001b[0m\u001b[1;33m(\u001b[0m\u001b[0mtask_arn\u001b[0m\u001b[1;33m,\u001b[0m \u001b[0maws_session\u001b[0m\u001b[1;33m,\u001b[0m \u001b[1;33m*\u001b[0m\u001b[0margs\u001b[0m\u001b[1;33m,\u001b[0m \u001b[1;33m**\u001b[0m\u001b[0mkwargs\u001b[0m\u001b[1;33m)\u001b[0m\u001b[1;33m\u001b[0m\u001b[1;33m\u001b[0m\u001b[0m\n\u001b[0;32m    602\u001b[0m \u001b[1;33m\u001b[0m\u001b[0m\n",
      "\u001b[1;32mc:\\users\\алексей\\appdata\\local\\programs\\python\\python39\\lib\\site-packages\\braket\\aws\\aws_session.py\u001b[0m in \u001b[0;36mcreate_quantum_task\u001b[1;34m(self, **boto3_kwargs)\u001b[0m\n\u001b[0;32m    221\u001b[0m         \u001b[1;32mif\u001b[0m \u001b[0mjob_token\u001b[0m\u001b[1;33m:\u001b[0m\u001b[1;33m\u001b[0m\u001b[1;33m\u001b[0m\u001b[0m\n\u001b[0;32m    222\u001b[0m             \u001b[0mboto3_kwargs\u001b[0m\u001b[1;33m.\u001b[0m\u001b[0mupdate\u001b[0m\u001b[1;33m(\u001b[0m\u001b[1;33m{\u001b[0m\u001b[1;34m\"jobToken\"\u001b[0m\u001b[1;33m:\u001b[0m \u001b[0mjob_token\u001b[0m\u001b[1;33m}\u001b[0m\u001b[1;33m)\u001b[0m\u001b[1;33m\u001b[0m\u001b[1;33m\u001b[0m\u001b[0m\n\u001b[1;32m--> 223\u001b[1;33m         \u001b[0mresponse\u001b[0m \u001b[1;33m=\u001b[0m \u001b[0mself\u001b[0m\u001b[1;33m.\u001b[0m\u001b[0mbraket_client\u001b[0m\u001b[1;33m.\u001b[0m\u001b[0mcreate_quantum_task\u001b[0m\u001b[1;33m(\u001b[0m\u001b[1;33m**\u001b[0m\u001b[0mboto3_kwargs\u001b[0m\u001b[1;33m)\u001b[0m\u001b[1;33m\u001b[0m\u001b[1;33m\u001b[0m\u001b[0m\n\u001b[0m\u001b[0;32m    224\u001b[0m         broadcast_event(\n\u001b[0;32m    225\u001b[0m             _TaskCreationEvent(\n",
      "\u001b[1;32mc:\\users\\алексей\\appdata\\local\\programs\\python\\python39\\lib\\site-packages\\botocore\\client.py\u001b[0m in \u001b[0;36m_api_call\u001b[1;34m(self, *args, **kwargs)\u001b[0m\n\u001b[0;32m    528\u001b[0m                 )\n\u001b[0;32m    529\u001b[0m             \u001b[1;31m# The \"self\" in this scope is referring to the BaseClient.\u001b[0m\u001b[1;33m\u001b[0m\u001b[1;33m\u001b[0m\u001b[1;33m\u001b[0m\u001b[0m\n\u001b[1;32m--> 530\u001b[1;33m             \u001b[1;32mreturn\u001b[0m \u001b[0mself\u001b[0m\u001b[1;33m.\u001b[0m\u001b[0m_make_api_call\u001b[0m\u001b[1;33m(\u001b[0m\u001b[0moperation_name\u001b[0m\u001b[1;33m,\u001b[0m \u001b[0mkwargs\u001b[0m\u001b[1;33m)\u001b[0m\u001b[1;33m\u001b[0m\u001b[1;33m\u001b[0m\u001b[0m\n\u001b[0m\u001b[0;32m    531\u001b[0m \u001b[1;33m\u001b[0m\u001b[0m\n\u001b[0;32m    532\u001b[0m         \u001b[0m_api_call\u001b[0m\u001b[1;33m.\u001b[0m\u001b[0m__name__\u001b[0m \u001b[1;33m=\u001b[0m \u001b[0mstr\u001b[0m\u001b[1;33m(\u001b[0m\u001b[0mpy_operation_name\u001b[0m\u001b[1;33m)\u001b[0m\u001b[1;33m\u001b[0m\u001b[1;33m\u001b[0m\u001b[0m\n",
      "\u001b[1;32mc:\\users\\алексей\\appdata\\local\\programs\\python\\python39\\lib\\site-packages\\botocore\\client.py\u001b[0m in \u001b[0;36m_make_api_call\u001b[1;34m(self, operation_name, api_params)\u001b[0m\n\u001b[0;32m    958\u001b[0m             \u001b[0merror_code\u001b[0m \u001b[1;33m=\u001b[0m \u001b[0mparsed_response\u001b[0m\u001b[1;33m.\u001b[0m\u001b[0mget\u001b[0m\u001b[1;33m(\u001b[0m\u001b[1;34m\"Error\"\u001b[0m\u001b[1;33m,\u001b[0m \u001b[1;33m{\u001b[0m\u001b[1;33m}\u001b[0m\u001b[1;33m)\u001b[0m\u001b[1;33m.\u001b[0m\u001b[0mget\u001b[0m\u001b[1;33m(\u001b[0m\u001b[1;34m\"Code\"\u001b[0m\u001b[1;33m)\u001b[0m\u001b[1;33m\u001b[0m\u001b[1;33m\u001b[0m\u001b[0m\n\u001b[0;32m    959\u001b[0m             \u001b[0merror_class\u001b[0m \u001b[1;33m=\u001b[0m \u001b[0mself\u001b[0m\u001b[1;33m.\u001b[0m\u001b[0mexceptions\u001b[0m\u001b[1;33m.\u001b[0m\u001b[0mfrom_code\u001b[0m\u001b[1;33m(\u001b[0m\u001b[0merror_code\u001b[0m\u001b[1;33m)\u001b[0m\u001b[1;33m\u001b[0m\u001b[1;33m\u001b[0m\u001b[0m\n\u001b[1;32m--> 960\u001b[1;33m             \u001b[1;32mraise\u001b[0m \u001b[0merror_class\u001b[0m\u001b[1;33m(\u001b[0m\u001b[0mparsed_response\u001b[0m\u001b[1;33m,\u001b[0m \u001b[0moperation_name\u001b[0m\u001b[1;33m)\u001b[0m\u001b[1;33m\u001b[0m\u001b[1;33m\u001b[0m\u001b[0m\n\u001b[0m\u001b[0;32m    961\u001b[0m         \u001b[1;32melse\u001b[0m\u001b[1;33m:\u001b[0m\u001b[1;33m\u001b[0m\u001b[1;33m\u001b[0m\u001b[0m\n\u001b[0;32m    962\u001b[0m             \u001b[1;32mreturn\u001b[0m \u001b[0mparsed_response\u001b[0m\u001b[1;33m\u001b[0m\u001b[1;33m\u001b[0m\u001b[0m\n",
      "\u001b[1;31mAccessDeniedException\u001b[0m: An error occurred (AccessDeniedException) when calling the CreateQuantumTask operation: Account 576588997085 is not permitted to access AWS Braket resources."
     ]
    }
   ],
   "source": [
    "# set up the local simulator\n",
    "device = AwsDevice(\"arn:aws:braket:::device/qpu/ionq/ionQdevice\")\n",
    "\n",
    "# Select item to find. Let's start with '111' for now\n",
    "item = \"1001001\"\n",
    "\n",
    "# get Grover circuit\n",
    "print(\"start grover\")\n",
    "circ = grover(item, n_reps=5)\n",
    "print(\"end grover\")\n",
    "\n",
    "# print circuit\n",
    "print(circ)\n",
    "\n",
    "# Measurement\n",
    "print(\"get results\")\n",
    "from braket.tracking import Tracker\n",
    "t = Tracker().start()\n",
    "counts = get_result(circ)\n",
    "print(t.quantum_tasks_statistics())"
   ]
  },
  {
   "cell_type": "code",
   "execution_count": null,
   "id": "assigned-there",
   "metadata": {},
   "outputs": [],
   "source": [
    "import random\n",
    "\n",
    "# set up the local simulator\n",
    "device = LocalSimulator()\n",
    "\n",
    "item = str(random.randint(0,1))\n",
    "n_qub = 2\n",
    "n_elem = 2**n_qub\n",
    "times = []\n",
    "\n",
    "for jj in range(2, 8):\n",
    "    print(\"Number of qubits: \", jj)\n",
    "    n_qub = jj\n",
    "    n_elem = 2**n_qub\n",
    "    targets = [x for x in range(0, n_qub)]\n",
    "    item += str(random.randint(0,1))\n",
    "    print(\"Searching item: \", search_item)\n",
    "    \n",
    "    test = list(itertools.product([0, 1], repeat=n_qub))\n",
    "    ora = [\"\".join(map(str, test[i]))  for i in range(0,n_elem)]\n",
    "    oracle_sim = {\n",
    "        ora[i]: Circuit().x(np.where(np.array(test[i]) < 1)[0]).ccz().x(np.where(np.array(test[i]) < 1)[0])  for i in range(0,n_elem)\n",
    "    }\n",
    "    print(ora)\n",
    "    circ = grover(item, n_reps=round(sqrt(n_qub)))\n",
    "\n",
    "    # print circuit\n",
    "    print(circ)\n",
    "\n",
    "    # Measurement\n",
    "    from braket.tracking import Tracker\n",
    "    counts = get_result(circ)\n",
    "    print(\"\\n\\n\")\n",
    "\n",
    "print(times)"
   ]
  }
 ],
 "metadata": {
  "kernelspec": {
   "display_name": "Python 3",
   "language": "python",
   "name": "python3"
  },
  "language_info": {
   "codemirror_mode": {
    "name": "ipython",
    "version": 3
   },
   "file_extension": ".py",
   "mimetype": "text/x-python",
   "name": "python",
   "nbconvert_exporter": "python",
   "pygments_lexer": "ipython3",
   "version": "3.9.2"
  }
 },
 "nbformat": 4,
 "nbformat_minor": 5
}
